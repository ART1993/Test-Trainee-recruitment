{
 "cells": [
  {
   "cell_type": "code",
   "execution_count": 57,
   "metadata": {},
   "outputs": [
    {
     "name": "stdout",
     "output_type": "stream",
     "text": [
      "3628800\n"
     ]
    }
   ],
   "source": [
    "#Challenge 1\n",
    "def factorial(n):\n",
    "    if abs(n)<=1:\n",
    "        return 1\n",
    "    else:\n",
    "        return n*factorial(n-1)\n",
    "try:\n",
    "    #I force the program to create positive numbers without decimals.\n",
    "    n_input=abs(int(input(\"Write the number it will be always higher than 0\")))\n",
    "    print(factorial(n_input))\n",
    "#If it is not a number then it will raise an exception\n",
    "except:\n",
    "    print(\"The selected value is not the adequate\")\n"
   ]
  },
  {
   "cell_type": "code",
   "execution_count": 50,
   "metadata": {},
   "outputs": [
    {
     "name": "stdout",
     "output_type": "stream",
     "text": [
      "ABd1234@1\n"
     ]
    }
   ],
   "source": [
    "#Challenge2\n",
    "#At least it must have one of these values\n",
    "legal_numbers=[str(i) for i in range(10)]\n",
    "legal_upper=[chr(upper) for upper in range(ord(\"A\"),ord(\"Z\")+1)]\n",
    "legal_lower=[chr(lower) for lower in range(ord(\"a\"),ord(\"z\")+1)]\n",
    "legal_character=[\"$\",\"#\",\"@\"]\n",
    "legal=legal_numbers+legal_upper+legal_lower+legal_character\n",
    "#Here I try at least to limit the number of character that the code cannot use\n",
    "list_str=[chr(n) for n in range(512)]\n",
    "user_input=input(\"Write the password\")\n",
    "#We separate each word \n",
    "user_input=user_input.split(\",\")\n",
    "exception=[exc for exc in list_str if exc not in legal]\n",
    "#Loop where I create the condition for the work\n",
    "for code in user_input:\n",
    "    isupper=any(upper in code for upper in legal_upper)\n",
    "    islower=any(lower in code for lower in legal_lower)\n",
    "    isnumber=any(numbers in code for numbers in legal_numbers)\n",
    "    ischarl=any(c in code for c in legal_character)\n",
    "    isextra=any(extra not in code for extra in exception)\n",
    "    if len(code)>=6 and len(code)<=12 and (isupper and islower and isnumber \n",
    "        and ischarl and isextra):\n",
    "        print(code)\n"
   ]
  },
  {
   "cell_type": "code",
   "execution_count": null,
   "metadata": {},
   "outputs": [],
   "source": []
  }
 ],
 "metadata": {
  "kernelspec": {
   "display_name": "Python 3.8.10 64-bit",
   "language": "python",
   "name": "python3"
  },
  "language_info": {
   "codemirror_mode": {
    "name": "ipython",
    "version": 3
   },
   "file_extension": ".py",
   "mimetype": "text/x-python",
   "name": "python",
   "nbconvert_exporter": "python",
   "pygments_lexer": "ipython3",
   "version": "3.8.10"
  },
  "orig_nbformat": 4,
  "vscode": {
   "interpreter": {
    "hash": "916dbcbb3f70747c44a77c7bcd40155683ae19c65e1c03b4aa3499c5328201f1"
   }
  }
 },
 "nbformat": 4,
 "nbformat_minor": 2
}
